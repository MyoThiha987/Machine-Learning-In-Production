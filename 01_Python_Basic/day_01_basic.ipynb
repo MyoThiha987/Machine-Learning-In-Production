{
 "cells": [
  {
   "cell_type": "code",
   "execution_count": 24,
   "metadata": {},
   "outputs": [
    {
     "name": "stdout",
     "output_type": "stream",
     "text": [
      "<class 'str'>\n",
      "<class 'int'>\n",
      "<class 'float'>\n",
      "<class 'list'>\n",
      "[100, 100, 2000]\n",
      "<class 'set'>\n",
      "{10, 100}\n",
      "<class 'dict'>\n",
      "{'a': 10, 'b': 10, 'c': 100}\n",
      "<class 'bytes'>\n",
      "b'Hello'\n",
      "<class 'range'>\n",
      "range(0, 10)\n",
      "<class 'NoneType'>\n"
     ]
    }
   ],
   "source": [
    "# Data Types\n",
    "\n",
    "check_type = \"Hello World\"\n",
    "print(type(check_type))\n",
    "\n",
    "check_type = 100\n",
    "print(type(check_type))\n",
    "\n",
    "check_type = 100.0\n",
    "print(type(check_type))\n",
    "\n",
    "check_type = [100,100,2000]\n",
    "print(type(check_type))\n",
    "print(check_type)\n",
    "\n",
    "check_type = {10,10,100}\n",
    "print(type(check_type))\n",
    "print(check_type)\n",
    "\n",
    "check_type = {'a':10,'b':10,'c':100}\n",
    "print(type(check_type))\n",
    "print(check_type)\n",
    "\n",
    "#Bytes\n",
    "check_type = b'Hello'\n",
    "print(type(check_type))\n",
    "print(check_type)\n",
    "\n",
    "check_type = range(10)\n",
    "print(type(check_type))\n",
    "print(check_type)\n",
    "\n",
    "check_type = None\n",
    "print(type(check_type))"
   ]
  },
  {
   "cell_type": "code",
   "execution_count": 5,
   "metadata": {},
   "outputs": [
    {
     "name": "stdout",
     "output_type": "stream",
     "text": [
      "i value in : 0\n",
      "i value in : 1\n",
      "i value in : 2\n",
      "i value in : 3\n",
      "i value in : 4\n",
      "i value in : 5\n",
      "i value in : 6\n",
      "i value in : 7\n",
      "i value in : 8\n",
      "i value in : 9\n"
     ]
    }
   ],
   "source": [
    "# for loop\n",
    "for i in range(0,10,1):\n",
    "    print(\"i value in :\",i)\n"
   ]
  },
  {
   "cell_type": "code",
   "execution_count": 6,
   "metadata": {},
   "outputs": [
    {
     "name": "stdout",
     "output_type": "stream",
     "text": [
      "Length is 4\n",
      "ith is 100\n",
      "ith is 100\n",
      "ith is 2000\n",
      "ith is 3000\n"
     ]
    }
   ],
   "source": [
    "#List Length\n",
    "\n",
    "n_list =[100,100,2000,3000]\n",
    "print('Length is',len(n_list))\n",
    "\n",
    "for i in range(0,len(n_list),1):\n",
    "    print('ith is',n_list[i])"
   ]
  },
  {
   "cell_type": "code",
   "execution_count": 7,
   "metadata": {},
   "outputs": [
    {
     "name": "stdout",
     "output_type": "stream",
     "text": [
      "i value is 100\n",
      "i value is 100\n",
      "i value is 2000\n",
      "i value is 3000\n"
     ]
    }
   ],
   "source": [
    "# foreach loop\n",
    "for i in n_list:\n",
    "    print(\"i value is\",i)\n"
   ]
  },
  {
   "cell_type": "code",
   "execution_count": 8,
   "metadata": {},
   "outputs": [
    {
     "name": "stdout",
     "output_type": "stream",
     "text": [
      "123456789"
     ]
    }
   ],
   "source": [
    "# while loop\n",
    "index = 1\n",
    "while index < 10:\n",
    "    print(index,end=\"\")\n",
    "    index = index + 1"
   ]
  },
  {
   "cell_type": "code",
   "execution_count": null,
   "metadata": {},
   "outputs": [
    {
     "name": "stdout",
     "output_type": "stream",
     "text": [
      "Try again!\n",
      "Try again!\n",
      "Try again!\n",
      "Try again!\n"
     ]
    }
   ],
   "source": [
    "# do while loop\n",
    "secret_word =\"hello\"\n",
    "while True:\n",
    "    input_word = input(\"Enter sample word:\")\n",
    "    if input_word == secret_word:\n",
    "        break\n",
    "    print('Try again!')"
   ]
  },
  {
   "cell_type": "code",
   "execution_count": 7,
   "metadata": {},
   "outputs": [
    {
     "name": "stdout",
     "output_type": "stream",
     "text": [
      "Result is 14\n"
     ]
    }
   ],
   "source": [
    "# Function\n",
    "# Function name must be verb\n",
    "# params must be nouns\n",
    "\n",
    "def addTwoNumb(num1 = 10, num2 =12)-> int:\n",
    "    result = num1 + num2\n",
    "    return result\n",
    "\n",
    "print('Result is',addTwoNumb(num1=2))"
   ]
  },
  {
   "cell_type": "code",
   "execution_count": null,
   "metadata": {},
   "outputs": [
    {
     "name": "stdout",
     "output_type": "stream",
     "text": [
      "[]\n",
      "['Laptop', 'gpu']\n"
     ]
    }
   ],
   "source": [
    "# List\n",
    "\n",
    "item_list = []\n",
    "print(item_list)\n",
    "item_list.append(\"Laptop\")\n",
    "item_list.append(\"gpu\")\n",
    "item_list.append(\"cpu\")\n",
    "\n",
    "# remove item\n",
    "item_list.remove(\"cpu\")\n",
    "print(item_list)\n"
   ]
  },
  {
   "cell_type": "code",
   "execution_count": 21,
   "metadata": {},
   "outputs": [
    {
     "data": {
      "text/plain": [
       "['cpu', 'Laptop']"
      ]
     },
     "execution_count": 21,
     "metadata": {},
     "output_type": "execute_result"
    }
   ],
   "source": [
    "def appendItem(itemName,item_list = None) -> list:\n",
    "    if item_list == None:\n",
    "        item_list =[]\n",
    "    \n",
    "    item_list.append(itemName)\n",
    "    return item_list\n",
    "\n",
    "\n",
    "item_list = None\n",
    "item_list = appendItem(\"cpu\")\n",
    "\n",
    "\n",
    "item_list = appendItem(\"Laptop\",item_list)\n",
    "item_list"
   ]
  },
  {
   "cell_type": "code",
   "execution_count": null,
   "metadata": {},
   "outputs": [
    {
     "name": "stdout",
     "output_type": "stream",
     "text": [
      "<class 'tuple'>\n",
      "(1, 2, 3, 4)\n"
     ]
    },
    {
     "ename": "TypeError",
     "evalue": "'tuple' object does not support item assignment",
     "output_type": "error",
     "traceback": [
      "\u001b[0;31m---------------------------------------------------------------------------\u001b[0m",
      "\u001b[0;31mTypeError\u001b[0m                                 Traceback (most recent call last)",
      "Cell \u001b[0;32mIn[23], line 6\u001b[0m\n\u001b[1;32m      3\u001b[0m \u001b[38;5;28mprint\u001b[39m(\u001b[38;5;28mtype\u001b[39m(\u001b[38;5;28mtuple\u001b[39m))\n\u001b[1;32m      4\u001b[0m \u001b[38;5;28mprint\u001b[39m(\u001b[38;5;28mtuple\u001b[39m)\n\u001b[0;32m----> 6\u001b[0m \u001b[38;5;28;43mtuple\u001b[39;49m\u001b[43m[\u001b[49m\u001b[38;5;241;43m0\u001b[39;49m\u001b[43m]\u001b[49m \u001b[38;5;241m=\u001b[39m \u001b[38;5;241m10\u001b[39m\n",
      "\u001b[0;31mTypeError\u001b[0m: 'tuple' object does not support item assignment"
     ]
    }
   ],
   "source": [
    "# Tuple (cant assign new value)\n",
    "tuple = (1,2,3,4)\n",
    "print(type(tuple))\n",
    "print(tuple)\n",
    "\n",
    "tuple[0] = 10"
   ]
  },
  {
   "cell_type": "code",
   "execution_count": 28,
   "metadata": {},
   "outputs": [
    {
     "name": "stdout",
     "output_type": "stream",
     "text": [
      "{100, 10, 30}\n"
     ]
    }
   ],
   "source": [
    "# Set (Not like list is that can't have duplicate value)\n",
    "\n",
    "my_set = {10,20,30}\n",
    "my_set.add(100)\n",
    "my_set.remove(20)\n",
    "print(my_set)"
   ]
  },
  {
   "cell_type": "code",
   "execution_count": 1,
   "metadata": {},
   "outputs": [
    {
     "name": "stdout",
     "output_type": "stream",
     "text": [
      "Key a\tValue 10\n",
      "Key b\tValue 20\n"
     ]
    }
   ],
   "source": [
    "# Dictionary\n",
    "\n",
    "my_dict = {'a':10,'b':20}\n",
    "for k,v in my_dict.items():\n",
    "    print(\"Key\",k,end=\"\\t\")\n",
    "    print(\"Value\",v)"
   ]
  }
 ],
 "metadata": {
  "kernelspec": {
   "display_name": "test_poetry-Rwji0hhw",
   "language": "python",
   "name": "python3"
  },
  "language_info": {
   "codemirror_mode": {
    "name": "ipython",
    "version": 3
   },
   "file_extension": ".py",
   "mimetype": "text/x-python",
   "name": "python",
   "nbconvert_exporter": "python",
   "pygments_lexer": "ipython3",
   "version": "3.13.1"
  }
 },
 "nbformat": 4,
 "nbformat_minor": 2
}
