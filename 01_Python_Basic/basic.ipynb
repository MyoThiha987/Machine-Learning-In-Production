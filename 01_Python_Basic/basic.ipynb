{
 "cells": [
  {
   "cell_type": "code",
   "execution_count": 4,
   "metadata": {},
   "outputs": [
    {
     "name": "stdout",
     "output_type": "stream",
     "text": [
      "<class 'str'>\n",
      "<class 'int'>\n",
      "<class 'float'>\n",
      "<class 'list'>\n",
      "[100, 100, 2000]\n",
      "<class 'set'>\n",
      "{10, 100}\n",
      "<class 'set'>\n",
      "{10, 100}\n",
      "<class 'dict'>\n",
      "{'a': 10, 'b': 10, 'c': 100}\n",
      "<class 'bytes'>\n",
      "b'Hello'\n",
      "<class 'range'>\n",
      "range(0, 10)\n",
      "<class 'NoneType'>\n"
     ]
    }
   ],
   "source": [
    "# Data Types\n",
    "\n",
    "check_type = \"Hello World\"\n",
    "print(type(check_type))\n",
    "\n",
    "check_type = 100\n",
    "print(type(check_type))\n",
    "\n",
    "check_type = 100.0\n",
    "print(type(check_type))\n",
    "\n",
    "check_type = [100,100,2000]\n",
    "print(type(check_type))\n",
    "print(check_type)\n",
    "\n",
    "check_type = {10,10,100}\n",
    "print(type(check_type))\n",
    "print(check_type)\n",
    "\n",
    "check_type = {10,10,100}\n",
    "print(type(check_type))\n",
    "print(check_type)\n",
    "\n",
    "check_type = {'a':10,'b':10,'c':100}\n",
    "print(type(check_type))\n",
    "print(check_type)\n",
    "\n",
    "#Bytes\n",
    "check_type = b'Hello'\n",
    "print(type(check_type))\n",
    "print(check_type)\n",
    "\n",
    "check_type = range(10)\n",
    "print(type(check_type))\n",
    "print(check_type)\n",
    "\n",
    "check_type = None\n",
    "print(type(check_type))"
   ]
  },
  {
   "cell_type": "code",
   "execution_count": 5,
   "metadata": {},
   "outputs": [
    {
     "name": "stdout",
     "output_type": "stream",
     "text": [
      "i value in : 0\n",
      "i value in : 1\n",
      "i value in : 2\n",
      "i value in : 3\n",
      "i value in : 4\n",
      "i value in : 5\n",
      "i value in : 6\n",
      "i value in : 7\n",
      "i value in : 8\n",
      "i value in : 9\n"
     ]
    }
   ],
   "source": [
    "# for loop\n",
    "for i in range(0,10,1):\n",
    "    print(\"i value in :\",i)\n"
   ]
  },
  {
   "cell_type": "code",
   "execution_count": 6,
   "metadata": {},
   "outputs": [
    {
     "name": "stdout",
     "output_type": "stream",
     "text": [
      "Length is 4\n",
      "ith is 100\n",
      "ith is 100\n",
      "ith is 2000\n",
      "ith is 3000\n"
     ]
    }
   ],
   "source": [
    "#List Length\n",
    "\n",
    "n_list =[100,100,2000,3000]\n",
    "print('Length is',len(n_list))\n",
    "\n",
    "for i in range(0,len(n_list),1):\n",
    "    print('ith is',n_list[i])"
   ]
  },
  {
   "cell_type": "code",
   "execution_count": 7,
   "metadata": {},
   "outputs": [
    {
     "name": "stdout",
     "output_type": "stream",
     "text": [
      "i value is 100\n",
      "i value is 100\n",
      "i value is 2000\n",
      "i value is 3000\n"
     ]
    }
   ],
   "source": [
    "# foreach loop\n",
    "for i in n_list:\n",
    "    print(\"i value is\",i)\n"
   ]
  },
  {
   "cell_type": "code",
   "execution_count": 8,
   "metadata": {},
   "outputs": [
    {
     "name": "stdout",
     "output_type": "stream",
     "text": [
      "123456789"
     ]
    }
   ],
   "source": [
    "# while loop\n",
    "index = 1\n",
    "while index < 10:\n",
    "    print(index,end=\"\")\n",
    "    index = index + 1"
   ]
  },
  {
   "cell_type": "code",
   "execution_count": null,
   "metadata": {},
   "outputs": [
    {
     "name": "stdout",
     "output_type": "stream",
     "text": [
      "Try again!\n",
      "Try again!\n",
      "Try again!\n",
      "Try again!\n"
     ]
    }
   ],
   "source": [
    "# do while loop\n",
    "secret_word =\"hello\"\n",
    "while True:\n",
    "    input_word = input(\"Enter sample word:\")\n",
    "    if input_word == secret_word:\n",
    "        break\n",
    "    print('Try again!')"
   ]
  },
  {
   "cell_type": "code",
   "execution_count": 3,
   "metadata": {},
   "outputs": [],
   "source": [
    "# Function\n",
    "# Function name must be verb\n",
    "# params must be nouns\n",
    "\n",
    "def addNumbs(num1,num2):\n",
    "    result = num1 + num2\n",
    "    return print('Result is',result)"
   ]
  }
 ],
 "metadata": {
  "kernelspec": {
   "display_name": "learn_env",
   "language": "python",
   "name": "python3"
  },
  "language_info": {
   "codemirror_mode": {
    "name": "ipython",
    "version": 3
   },
   "file_extension": ".py",
   "mimetype": "text/x-python",
   "name": "python",
   "nbconvert_exporter": "python",
   "pygments_lexer": "ipython3",
   "version": "3.10.14"
  }
 },
 "nbformat": 4,
 "nbformat_minor": 2
}
