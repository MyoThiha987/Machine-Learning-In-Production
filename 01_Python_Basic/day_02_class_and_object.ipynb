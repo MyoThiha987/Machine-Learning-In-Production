{
 "cells": [
  {
   "cell_type": "code",
   "execution_count": 1,
   "id": "4e8a95c4",
   "metadata": {},
   "outputs": [
    {
     "name": "stdout",
     "output_type": "stream",
     "text": [
      "03-06-2024\n"
     ]
    },
    {
     "data": {
      "text/plain": [
       "3500"
      ]
     },
     "execution_count": 1,
     "metadata": {},
     "output_type": "execute_result"
    }
   ],
   "source": [
    "from model import Item, Categories\n",
    "\n",
    "cat1 = Categories(created_date='03-06-2024',category_name='Local coffee',category_id='cat_001')\n",
    "\n",
    "i1 = Item ('12-06-2024','i_001','super_coffee',\"0000\",3900,3500,cat1)\n",
    "i2 = Item ('17-06-2024','i_002','sunday_coffee',\"0000\",3450,3000,cat1)\n",
    "i3 = Item ('01-06-2024','i_003','hsu_coffee',\"0000\",5450,5200,cat1)\n",
    "\n",
    "print(cat1.created_date)\n",
    "i1.buying_price\n",
    "\n",
    "\n",
    "\n"
   ]
  },
  {
   "cell_type": "code",
   "execution_count": 10,
   "id": "a0516e2a",
   "metadata": {},
   "outputs": [],
   "source": [
    "from model import SaleItem\n",
    "\n",
    "\n",
    "sale1=  SaleItem(customer_id='CU_000001',created_date='15-06-2024',item=i1 )\n",
    "sale2=  SaleItem(customer_id='CU_000001',created_date='21-06-2024',item=i1 )\n",
    "sale3=  SaleItem(customer_id='CU_000001',created_date='21-06-2024',item=i2 )\n",
    "sale4=  SaleItem(customer_id='CU_000001',created_date='21-06-2024',item=i3 )\n",
    "sale5=  SaleItem(customer_id='CU_000001',created_date='01-07-2024',item=i2 )\n",
    "sale6=  SaleItem(customer_id='CU_000001',created_date='01-07-2024',item=i1 )\n",
    "sale7=  SaleItem(customer_id='CU_000001',created_date='10-07-2024',item=i3 )\n",
    "sale8=  SaleItem(customer_id='CU_000001',created_date='10-07-2024',item=i2 )\n",
    "sale9=  SaleItem(customer_id='CU_000001',created_date='10-07-2024',item=i3 )\n",
    "\n",
    "total_sale = [sale1,sale2,sale3,sale4,sale5,sale6,sale7,sale8,sale9]\n",
    "\n"
   ]
  },
  {
   "cell_type": "code",
   "execution_count": 7,
   "id": "1520807e",
   "metadata": {},
   "outputs": [
    {
     "data": {
      "text/plain": [
       "400"
      ]
     },
     "execution_count": 7,
     "metadata": {},
     "output_type": "execute_result"
    }
   ],
   "source": [
    "sale1.item.getProfit()\n",
    "\n"
   ]
  },
  {
   "cell_type": "code",
   "execution_count": 8,
   "id": "414ee383",
   "metadata": {},
   "outputs": [
    {
     "data": {
      "text/plain": [
       "{'created_date': ['15-06-2024',\n",
       "  '21-06-2024',\n",
       "  '21-06-2024',\n",
       "  '21-06-2024',\n",
       "  '01-07-2024',\n",
       "  '01-07-2024',\n",
       "  '10-07-2024',\n",
       "  '10-07-2024',\n",
       "  '10-07-2024'],\n",
       " 'profit': [400, 400, 450, 250, 450, 400, 250, 450, 250],\n",
       " 'category_name': ['Local coffee',\n",
       "  'Local coffee',\n",
       "  'Local coffee',\n",
       "  'Local coffee',\n",
       "  'Local coffee',\n",
       "  'Local coffee',\n",
       "  'Local coffee',\n",
       "  'Local coffee',\n",
       "  'Local coffee'],\n",
       " 'item_name': ['super_coffee',\n",
       "  'super_coffee',\n",
       "  'sunday_coffee',\n",
       "  'hsu_coffee',\n",
       "  'sunday_coffee',\n",
       "  'super_coffee',\n",
       "  'hsu_coffee',\n",
       "  'sunday_coffee',\n",
       "  'hsu_coffee']}"
      ]
     },
     "execution_count": 8,
     "metadata": {},
     "output_type": "execute_result"
    }
   ],
   "source": [
    "sale_item_dict = {\n",
    "    'created_date' :[],\n",
    "    'profit' : [],\n",
    "    'category_name' :[],\n",
    "    'item_name' : []\n",
    "}\n",
    "\n",
    "\n",
    "for sale in total_sale:\n",
    "    sale_item_dict['created_date'].append(sale.created_date)\n",
    "    sale_item_dict['category_name'].append(sale.item.category.name)\n",
    "    sale_item_dict['item_name'].append(sale.item.name)\n",
    "    sale_item_dict['profit'].append(sale.item.getProfit())\n",
    "\n",
    "sale_item_dict"
   ]
  },
  {
   "cell_type": "code",
   "execution_count": 12,
   "id": "e176aa71",
   "metadata": {},
   "outputs": [
    {
     "data": {
      "text/html": [
       "<div>\n",
       "<style scoped>\n",
       "    .dataframe tbody tr th:only-of-type {\n",
       "        vertical-align: middle;\n",
       "    }\n",
       "\n",
       "    .dataframe tbody tr th {\n",
       "        vertical-align: top;\n",
       "    }\n",
       "\n",
       "    .dataframe thead th {\n",
       "        text-align: right;\n",
       "    }\n",
       "</style>\n",
       "<table border=\"1\" class=\"dataframe\">\n",
       "  <thead>\n",
       "    <tr style=\"text-align: right;\">\n",
       "      <th></th>\n",
       "      <th>created_date</th>\n",
       "      <th>profit</th>\n",
       "      <th>category_name</th>\n",
       "      <th>item_name</th>\n",
       "    </tr>\n",
       "  </thead>\n",
       "  <tbody>\n",
       "    <tr>\n",
       "      <th>0</th>\n",
       "      <td>15-06-2024</td>\n",
       "      <td>400</td>\n",
       "      <td>Local coffee</td>\n",
       "      <td>super_coffee</td>\n",
       "    </tr>\n",
       "    <tr>\n",
       "      <th>1</th>\n",
       "      <td>21-06-2024</td>\n",
       "      <td>400</td>\n",
       "      <td>Local coffee</td>\n",
       "      <td>super_coffee</td>\n",
       "    </tr>\n",
       "    <tr>\n",
       "      <th>2</th>\n",
       "      <td>21-06-2024</td>\n",
       "      <td>450</td>\n",
       "      <td>Local coffee</td>\n",
       "      <td>sunday_coffee</td>\n",
       "    </tr>\n",
       "    <tr>\n",
       "      <th>3</th>\n",
       "      <td>21-06-2024</td>\n",
       "      <td>250</td>\n",
       "      <td>Local coffee</td>\n",
       "      <td>hsu_coffee</td>\n",
       "    </tr>\n",
       "    <tr>\n",
       "      <th>4</th>\n",
       "      <td>01-07-2024</td>\n",
       "      <td>450</td>\n",
       "      <td>Local coffee</td>\n",
       "      <td>sunday_coffee</td>\n",
       "    </tr>\n",
       "    <tr>\n",
       "      <th>5</th>\n",
       "      <td>01-07-2024</td>\n",
       "      <td>400</td>\n",
       "      <td>Local coffee</td>\n",
       "      <td>super_coffee</td>\n",
       "    </tr>\n",
       "    <tr>\n",
       "      <th>6</th>\n",
       "      <td>10-07-2024</td>\n",
       "      <td>250</td>\n",
       "      <td>Local coffee</td>\n",
       "      <td>hsu_coffee</td>\n",
       "    </tr>\n",
       "    <tr>\n",
       "      <th>7</th>\n",
       "      <td>10-07-2024</td>\n",
       "      <td>450</td>\n",
       "      <td>Local coffee</td>\n",
       "      <td>sunday_coffee</td>\n",
       "    </tr>\n",
       "    <tr>\n",
       "      <th>8</th>\n",
       "      <td>10-07-2024</td>\n",
       "      <td>250</td>\n",
       "      <td>Local coffee</td>\n",
       "      <td>hsu_coffee</td>\n",
       "    </tr>\n",
       "  </tbody>\n",
       "</table>\n",
       "</div>"
      ],
      "text/plain": [
       "  created_date  profit category_name      item_name\n",
       "0   15-06-2024     400  Local coffee   super_coffee\n",
       "1   21-06-2024     400  Local coffee   super_coffee\n",
       "2   21-06-2024     450  Local coffee  sunday_coffee\n",
       "3   21-06-2024     250  Local coffee     hsu_coffee\n",
       "4   01-07-2024     450  Local coffee  sunday_coffee\n",
       "5   01-07-2024     400  Local coffee   super_coffee\n",
       "6   10-07-2024     250  Local coffee     hsu_coffee\n",
       "7   10-07-2024     450  Local coffee  sunday_coffee\n",
       "8   10-07-2024     250  Local coffee     hsu_coffee"
      ]
     },
     "execution_count": 12,
     "metadata": {},
     "output_type": "execute_result"
    }
   ],
   "source": [
    "# install pandas\n",
    "#!pip install pandas\n",
    "\n",
    "import pandas as pd\n",
    "\n",
    "sale_item_df = pd.DataFrame(sale_item_dict)\n",
    "sale_item_df"
   ]
  },
  {
   "cell_type": "code",
   "execution_count": null,
   "id": "d6170d93",
   "metadata": {},
   "outputs": [
    {
     "data": {
      "text/plain": [
       "'15-06-2024'"
      ]
     },
     "execution_count": 27,
     "metadata": {},
     "output_type": "execute_result"
    }
   ],
   "source": [
    "# Convert dataframe into array with non duplicate item name\n",
    "set(sale_item_df[\"item_name\"].to_numpy())\n",
    "\n",
    "# Display Column Create date\n",
    "temp_df = sale_item_df['created_date']\n",
    "temp_df\n",
    "\n",
    "# Get Row Data\n",
    "row_df = sale_item_df.iloc[0]['created_date']\n",
    "row_df"
   ]
  },
  {
   "cell_type": "code",
   "execution_count": 29,
   "id": "c1678c19",
   "metadata": {},
   "outputs": [
    {
     "name": "stdout",
     "output_type": "stream",
     "text": [
      "15-06-2024\n",
      "21-06-2024\n",
      "21-06-2024\n",
      "21-06-2024\n",
      "01-07-2024\n",
      "01-07-2024\n",
      "10-07-2024\n",
      "10-07-2024\n",
      "10-07-2024\n"
     ]
    }
   ],
   "source": [
    "# Get Numbers of Row Data\n",
    "\n",
    "n_index , _ = sale_item_df.shape\n",
    "\n",
    "for i in range(n_index):\n",
    "    print(sale_item_df.iloc[i]['created_date'])\n"
   ]
  },
  {
   "cell_type": "code",
   "execution_count": 39,
   "id": "80d5a2aa",
   "metadata": {},
   "outputs": [
    {
     "data": {
      "text/plain": [
       "{'hsu_coffee', 'sunday_coffee', 'super_coffee'}"
      ]
     },
     "execution_count": 39,
     "metadata": {},
     "output_type": "execute_result"
    }
   ],
   "source": [
    "dist_item_name = set(sale_item_df['item_name'].to_numpy())\n",
    "dist_item_name"
   ]
  },
  {
   "cell_type": "code",
   "execution_count": 38,
   "id": "1e2f9057",
   "metadata": {},
   "outputs": [
    {
     "data": {
      "text/html": [
       "<div>\n",
       "<style scoped>\n",
       "    .dataframe tbody tr th:only-of-type {\n",
       "        vertical-align: middle;\n",
       "    }\n",
       "\n",
       "    .dataframe tbody tr th {\n",
       "        vertical-align: top;\n",
       "    }\n",
       "\n",
       "    .dataframe thead th {\n",
       "        text-align: right;\n",
       "    }\n",
       "</style>\n",
       "<table border=\"1\" class=\"dataframe\">\n",
       "  <thead>\n",
       "    <tr style=\"text-align: right;\">\n",
       "      <th></th>\n",
       "      <th>created_date</th>\n",
       "      <th>profit</th>\n",
       "      <th>category_name</th>\n",
       "      <th>item_name</th>\n",
       "    </tr>\n",
       "  </thead>\n",
       "  <tbody>\n",
       "    <tr>\n",
       "      <th>0</th>\n",
       "      <td>15-06-2024</td>\n",
       "      <td>400</td>\n",
       "      <td>Local coffee</td>\n",
       "      <td>super_coffee</td>\n",
       "    </tr>\n",
       "    <tr>\n",
       "      <th>1</th>\n",
       "      <td>21-06-2024</td>\n",
       "      <td>400</td>\n",
       "      <td>Local coffee</td>\n",
       "      <td>super_coffee</td>\n",
       "    </tr>\n",
       "    <tr>\n",
       "      <th>5</th>\n",
       "      <td>01-07-2024</td>\n",
       "      <td>400</td>\n",
       "      <td>Local coffee</td>\n",
       "      <td>super_coffee</td>\n",
       "    </tr>\n",
       "  </tbody>\n",
       "</table>\n",
       "</div>"
      ],
      "text/plain": [
       "  created_date  profit category_name     item_name\n",
       "0   15-06-2024     400  Local coffee  super_coffee\n",
       "1   21-06-2024     400  Local coffee  super_coffee\n",
       "5   01-07-2024     400  Local coffee  super_coffee"
      ]
     },
     "execution_count": 38,
     "metadata": {},
     "output_type": "execute_result"
    }
   ],
   "source": [
    "sale_item_df[sale_item_df['item_name'] == 'super_coffee']\n"
   ]
  },
  {
   "cell_type": "code",
   "execution_count": null,
   "id": "0f387bc2",
   "metadata": {},
   "outputs": [
    {
     "name": "stdout",
     "output_type": "stream",
     "text": [
      "Collecting matplotlib\n",
      "  Downloading matplotlib-3.10.3-cp310-cp310-macosx_11_0_arm64.whl.metadata (11 kB)\n",
      "Collecting contourpy>=1.0.1 (from matplotlib)\n",
      "  Downloading contourpy-1.3.2-cp310-cp310-macosx_11_0_arm64.whl.metadata (5.5 kB)\n",
      "Collecting cycler>=0.10 (from matplotlib)\n",
      "  Downloading cycler-0.12.1-py3-none-any.whl.metadata (3.8 kB)\n",
      "Collecting fonttools>=4.22.0 (from matplotlib)\n",
      "  Downloading fonttools-4.58.4-cp310-cp310-macosx_10_9_universal2.whl.metadata (106 kB)\n",
      "Collecting kiwisolver>=1.3.1 (from matplotlib)\n",
      "  Downloading kiwisolver-1.4.8-cp310-cp310-macosx_11_0_arm64.whl.metadata (6.2 kB)\n",
      "Requirement already satisfied: numpy>=1.23 in /Users/myothiha/opt/anaconda3/envs/learn_env/lib/python3.10/site-packages (from matplotlib) (2.2.6)\n",
      "Requirement already satisfied: packaging>=20.0 in /Users/myothiha/opt/anaconda3/envs/learn_env/lib/python3.10/site-packages (from matplotlib) (25.0)\n",
      "Collecting pillow>=8 (from matplotlib)\n",
      "  Downloading pillow-11.2.1-cp310-cp310-macosx_11_0_arm64.whl.metadata (8.9 kB)\n",
      "Collecting pyparsing>=2.3.1 (from matplotlib)\n",
      "  Downloading pyparsing-3.2.3-py3-none-any.whl.metadata (5.0 kB)\n",
      "Requirement already satisfied: python-dateutil>=2.7 in /Users/myothiha/opt/anaconda3/envs/learn_env/lib/python3.10/site-packages (from matplotlib) (2.9.0.post0)\n",
      "Requirement already satisfied: six>=1.5 in /Users/myothiha/opt/anaconda3/envs/learn_env/lib/python3.10/site-packages (from python-dateutil>=2.7->matplotlib) (1.17.0)\n",
      "Downloading matplotlib-3.10.3-cp310-cp310-macosx_11_0_arm64.whl (8.0 MB)\n",
      "\u001b[2K   \u001b[90m━━━━━━━━━━━━━━━━━━━━━━━━━━━━━━━━━━━━━━━━\u001b[0m \u001b[32m8.0/8.0 MB\u001b[0m \u001b[31m1.1 MB/s\u001b[0m eta \u001b[36m0:00:00\u001b[0ma \u001b[36m0:00:01\u001b[0m\n",
      "\u001b[?25hDownloading contourpy-1.3.2-cp310-cp310-macosx_11_0_arm64.whl (253 kB)\n",
      "Downloading cycler-0.12.1-py3-none-any.whl (8.3 kB)\n",
      "Downloading fonttools-4.58.4-cp310-cp310-macosx_10_9_universal2.whl (2.7 MB)\n",
      "\u001b[2K   \u001b[90m━━━━━━━━━━━━━━━━━━━━━━━━━━━━━━━━━━━━━━━━\u001b[0m \u001b[32m2.7/2.7 MB\u001b[0m \u001b[31m1.1 MB/s\u001b[0m eta \u001b[36m0:00:00\u001b[0ma \u001b[36m0:00:01\u001b[0m\n",
      "\u001b[?25hDownloading kiwisolver-1.4.8-cp310-cp310-macosx_11_0_arm64.whl (65 kB)\n",
      "Downloading pillow-11.2.1-cp310-cp310-macosx_11_0_arm64.whl (3.0 MB)\n",
      "\u001b[2K   \u001b[90m━━━━━━━━━━━━━━━━━━━━━━━━━━━━━━━━━━━━━━━━\u001b[0m \u001b[32m3.0/3.0 MB\u001b[0m \u001b[31m1.8 MB/s\u001b[0m eta \u001b[36m0:00:00\u001b[0ma \u001b[36m0:00:01\u001b[0m\n",
      "\u001b[?25hDownloading pyparsing-3.2.3-py3-none-any.whl (111 kB)\n",
      "Installing collected packages: pyparsing, pillow, kiwisolver, fonttools, cycler, contourpy, matplotlib\n",
      "\u001b[2K   \u001b[90m━━━━━━━━━━━━━━━━━━━━━━━━━━━━━━━━━━━━━━━━\u001b[0m \u001b[32m7/7\u001b[0m [matplotlib]7\u001b[0m [matplotlib]\n",
      "\u001b[1A\u001b[2KSuccessfully installed contourpy-1.3.2 cycler-0.12.1 fonttools-4.58.4 kiwisolver-1.4.8 matplotlib-3.10.3 pillow-11.2.1 pyparsing-3.2.3\n"
     ]
    }
   ],
   "source": [
    "# Install MatplotLib to show \n",
    "\n",
    "!pip install matplotlib"
   ]
  },
  {
   "cell_type": "code",
   "execution_count": 72,
   "id": "8277811f",
   "metadata": {},
   "outputs": [
    {
     "name": "stdout",
     "output_type": "stream",
     "text": [
      "  created_date  profit category_name   item_name\n",
      "3   21-06-2024     250  Local coffee  hsu_coffee\n",
      "6   10-07-2024     250  Local coffee  hsu_coffee\n",
      "8   10-07-2024     250  Local coffee  hsu_coffee\n",
      "hsu_coffee\t : ['10-07-2024', '21-06-2024']\n",
      "[500, 250]\n",
      "  created_date  profit category_name     item_name\n",
      "0   15-06-2024     400  Local coffee  super_coffee\n",
      "1   21-06-2024     400  Local coffee  super_coffee\n",
      "5   01-07-2024     400  Local coffee  super_coffee\n",
      "super_coffee\t : ['21-06-2024', '01-07-2024', '15-06-2024']\n",
      "[400, 400, 400]\n",
      "  created_date  profit category_name      item_name\n",
      "2   21-06-2024     450  Local coffee  sunday_coffee\n",
      "4   01-07-2024     450  Local coffee  sunday_coffee\n",
      "7   10-07-2024     450  Local coffee  sunday_coffee\n",
      "sunday_coffee\t : ['10-07-2024', '21-06-2024', '01-07-2024']\n",
      "[450, 450, 450]\n"
     ]
    },
    {
     "data": {
      "image/png": "[encoded data removed]",
      "text/plain": [
       "<Figure size 640x480 with 1 Axes>"
      ]
     },
     "metadata": {},
     "output_type": "display_data"
    }
   ],
   "source": [
    "import matplotlib.pyplot as plt\n",
    "import numpy as np\n",
    "\n",
    "for cur_name in dist_item_name:\n",
    "   cur_df = sale_item_df[sale_item_df['item_name'] == cur_name]\n",
    "   total = np.sum(cur_df['profit'].to_numpy())\n",
    "   dist_date = list(set(cur_df['created_date'].to_numpy()))\n",
    "\n",
    "   print(cur_df)\n",
    "   print(cur_name,end=\"\\t : \")\n",
    "   #print(total,end=\"\\n\\n\")\n",
    "   print(dist_date)\n",
    "\n",
    "   date_by_profit = []\n",
    "\n",
    "   for cur_x in dist_date:\n",
    "      temp = cur_df[cur_df['created_date'] == cur_x]['profit'].to_numpy()\n",
    "      date_by_profit.append(int(np.sum(temp)))\n",
    "   \n",
    "   print(date_by_profit)\n",
    "\n",
    "   plt.scatter(dist_date,date_by_profit)\n",
    "\n",
    "\n",
    "plt.show()\n",
    "\n",
    "\n",
    "   \n"
   ]
  },
  {
   "cell_type": "code",
   "execution_count": null,
   "id": "ecca6f37",
   "metadata": {},
   "outputs": [
    {
     "name": "stdout",
     "output_type": "stream",
     "text": [
      "Do something plz!\n",
      "Hello World!\n",
      "Do something plz more!\n"
     ]
    }
   ],
   "source": [
    "# Decorator\n",
    "\n",
    "def my_decorator(func):\n",
    "    def wrapper():\n",
    "        print(\"Do something plz!\")\n",
    "        func()\n",
    "        print(\"Do something plz more!\")\n",
    "    return wrapper()\n",
    "\n",
    "@my_decorator\n",
    "def say_hello():\n",
    "    print(\"Hello World!\")\n"
   ]
  },
  {
   "cell_type": "code",
   "execution_count": 74,
   "id": "41541c4c",
   "metadata": {},
   "outputs": [
    {
     "data": {
      "text/plain": [
       "[1, 4, 9, 16, 25]"
      ]
     },
     "execution_count": 74,
     "metadata": {},
     "output_type": "execute_result"
    }
   ],
   "source": [
    "# One line forloop\n",
    "my_list = [1,2,3,4,5]\n",
    "x2 = [x**2 for x in my_list]\n",
    "x2"
   ]
  },
  {
   "cell_type": "code",
   "execution_count": 11,
   "id": "7fd40a71",
   "metadata": {},
   "outputs": [
    {
     "name": "stdout",
     "output_type": "stream",
     "text": [
      "<class 'str'>, test\n",
      "\n",
      "<class 'int'>, 1\n",
      "\n",
      "<class 'int'>, 2\n",
      "\n",
      "<class 'int'>, 3\n",
      "\n",
      "<class 'int'>, 4\n",
      "\n",
      "<class 'int'>, 5\n",
      "\n",
      "<class 'list'>, [0, 1]\n",
      "\n"
     ]
    }
   ],
   "source": [
    "# Unlimited Parmaters \n",
    "def eg_args(*args):\n",
    "    for arg in args:\n",
    "        print(type(arg),end=\", \")\n",
    "        print(arg,end=\"\\n\\n\")\n",
    "\n",
    "eg_args('test',1,2,3,4,5,[0,1])"
   ]
  },
  {
   "cell_type": "code",
   "execution_count": 16,
   "id": "94063f5c",
   "metadata": {},
   "outputs": [
    {
     "name": "stdout",
     "output_type": "stream",
     "text": [
      "Key python\tValue 3.1\n",
      "Key n\tValue test\n"
     ]
    }
   ],
   "source": [
    "# Dict Args\n",
    "def dict_args(**kwargs):\n",
    "    for k,v in kwargs.items():\n",
    "        print(\"Key\",k,end='\\t')\n",
    "        print(\"Value\",v)\n",
    "\n",
    "\n",
    "dict_args(python=3.10,n = 'test')"
   ]
  }
 ],
 "metadata": {
  "kernelspec": {
   "display_name": "learn_env",
   "language": "python",
   "name": "python3"
  },
  "language_info": {
   "codemirror_mode": {
    "name": "ipython",
    "version": 3
   },
   "file_extension": ".py",
   "mimetype": "text/x-python",
   "name": "python",
   "nbconvert_exporter": "python",
   "pygments_lexer": "ipython3",
   "version": "3.10.14"
  }
 },
 "nbformat": 4,
 "nbformat_minor": 5
}
